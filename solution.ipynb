{
 "metadata": {
  "language_info": {
   "codemirror_mode": {
    "name": "ipython",
    "version": 3
   },
   "file_extension": ".py",
   "mimetype": "text/x-python",
   "name": "python",
   "nbconvert_exporter": "python",
   "pygments_lexer": "ipython3",
   "version": "3.7.7-final"
  },
  "orig_nbformat": 2,
  "kernelspec": {
   "name": "python3",
   "display_name": "Python 3",
   "language": "python"
  }
 },
 "nbformat": 4,
 "nbformat_minor": 2,
 "cells": [
  {
   "source": [
    "***Day 1 (Part One): Find the two entries that sum to 2020; what do you get if you multiply them together?***"
   ],
   "cell_type": "markdown",
   "metadata": {}
  },
  {
   "source": [
    "#read data\n",
    "with open(\"data/input_d1.txt\", \"r\") as f:\n",
    "    entrs = [int(x) for x in next(f).split()]\n",
    "    for line in f:\n",
    "        entrs.append(int(line))\n",
    "\n",
    "#algorithm: \n",
    "# 1) keep a set of previously visited numbers\n",
    "# 2) if 2020-current_num is in the set return current_num*(2020-current_num)\n",
    "# 3) else add current_num to set \n",
    "s = set()\n",
    "for entr in entrs:\n",
    "    if len(s) is 0:\n",
    "        s.add(entr)\n",
    "    elif 2020-entr in s:\n",
    "        print(entr*(2020-entr))\n",
    "        break\n",
    "    else:\n",
    "        s.add(entr)"
   ],
   "cell_type": "code",
   "metadata": {},
   "execution_count": null,
   "outputs": []
  },
  {
   "source": [
    "***Day 1 (Part Two): what is the product of the three entries that sum to 2020?***"
   ],
   "cell_type": "markdown",
   "metadata": {}
  },
  {
   "cell_type": "code",
   "execution_count": 24,
   "metadata": {},
   "outputs": [
    {
     "output_type": "stream",
     "name": "stdout",
     "text": [
      "199300880\n"
     ]
    }
   ],
   "source": [
    "#algorithm: \n",
    "# 1) keep a set of previously visited numbers\n",
    "# 2) for each num in set check if 2020-current_num-num is in set\n",
    "# 3) if yes, return num*current_num*(2020-num-current_num)\n",
    "# 4) else add current_num to set \n",
    "\n",
    "s = set()\n",
    "for entr in entrs:\n",
    "    if len(s) is 0:\n",
    "        s.add(entr)\n",
    "    else:\n",
    "        for i in s:\n",
    "            if 2020-entr-i in s:\n",
    "                print(i*entr*(2020-entr-i))\n",
    "                break\n",
    "        s.add(entr)"
   ]
  },
  {
   "source": [
    "***Day 2 (Part One): How many passwords are valid according to their policies?***"
   ],
   "cell_type": "markdown",
   "metadata": {}
  },
  {
   "cell_type": "code",
   "execution_count": 35,
   "metadata": {
    "tags": []
   },
   "outputs": [
    {
     "output_type": "stream",
     "name": "stdout",
     "text": [
      "603\n"
     ]
    }
   ],
   "source": [
    "c = 0\n",
    "\n",
    "#read data\n",
    "with open(\"data/input_d2.txt\", \"r\") as f:\n",
    "    for line in f:\n",
    "        inp = line.split(\" \")\n",
    "        start,end = inp[0].split(\"-\")\n",
    "        l = inp[1][:-1]\n",
    "        word = inp[2][:-1]\n",
    "    \n",
    "        #check if the count is in the specified limits\n",
    "        if int(start) <= word.count(l) <= int(end):\n",
    "            c+=1\n",
    "        else:\n",
    "            continue\n",
    "print(c)      "
   ]
  },
  {
   "source": [
    "***Day 2 (Part Two): How many passwords are valid according to the new interpretation of the policies?***"
   ],
   "cell_type": "markdown",
   "metadata": {}
  },
  {
   "cell_type": "code",
   "execution_count": 46,
   "metadata": {},
   "outputs": [
    {
     "output_type": "stream",
     "name": "stdout",
     "text": [
      "404\n"
     ]
    }
   ],
   "source": [
    "c = 0\n",
    "\n",
    "#read data\n",
    "with open(\"data/input_d2.txt\", \"r\") as f:\n",
    "    for line in f:\n",
    "        inp = line.split(\" \")\n",
    "        start,end = inp[0].split(\"-\")\n",
    "        l = inp[1][:-1]\n",
    "        word = inp[2][:-1]\n",
    "\n",
    "        start = int(start)\n",
    "        end = int(end)\n",
    "\n",
    "        #check if only one of the positions have the allowed letter\n",
    "        if (word[start-1] is l) != (word[end-1] is l):\n",
    "            c+=1\n",
    "        else:\n",
    "            continue\n",
    "print(c)      "
   ]
  }
 ]
}